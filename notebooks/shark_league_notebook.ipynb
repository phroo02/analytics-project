{
 "cells": [
  {
   "cell_type": "markdown",
   "id": "e4d389e0",
   "metadata": {},
   "source": [
    "# Shark League Score\n",
    "## Import Python libraries\n",
    "\n"
   ]
  },
  {
   "cell_type": "code",
   "execution_count": 3,
   "id": "db86a65e",
   "metadata": {},
   "outputs": [],
   "source": [
    "import pandas as pd\n",
    "import numpy as np\n",
    "import logging\n",
    "import swc_simple_client as swc"
   ]
  },
  {
   "cell_type": "code",
   "execution_count": 4,
   "id": "a9e11975",
   "metadata": {},
   "outputs": [],
   "source": [
    "for handler in logging.root.handlers[:]:\n",
    "    logging.root.removeHandler(handler)\n",
    "\n",
    "logging.basicConfig(\n",
    "    filename='shark_notebook.log',  \n",
    "    level=logging.INFO,  \n",
    ")"
   ]
  },
  {
   "cell_type": "markdown",
   "id": "1ded74f7",
   "metadata": {},
   "source": [
    "## Setup notebook variables"
   ]
  },
  {
   "cell_type": "code",
   "execution_count": 6,
   "id": "d0bd1bd2",
   "metadata": {},
   "outputs": [],
   "source": [
    "base_url = \"https://humble-potato-r4grv6qx9vw9f9qj-8000.app.github.dev/\"\n"
   ]
  },
  {
   "cell_type": "markdown",
   "id": "c7c73f7f",
   "metadata": {},
   "source": [
    "## Get Custom Max Scores\n",
    "### Use endpoint: LIST_WEEKS_ENDPOINT "
   ]
  },
  {
   "cell_type": "code",
   "execution_count": 9,
   "id": "cf0a2f6f",
   "metadata": {},
   "outputs": [
    {
     "data": {
      "text/html": [
       "<div>\n",
       "<style scoped>\n",
       "    .dataframe tbody tr th:only-of-type {\n",
       "        vertical-align: middle;\n",
       "    }\n",
       "\n",
       "    .dataframe tbody tr th {\n",
       "        vertical-align: top;\n",
       "    }\n",
       "\n",
       "    .dataframe thead th {\n",
       "        text-align: right;\n",
       "    }\n",
       "</style>\n",
       "<table border=\"1\" class=\"dataframe\">\n",
       "  <thead>\n",
       "    <tr style=\"text-align: right;\">\n",
       "      <th></th>\n",
       "      <th>ppr_12_max_points</th>\n",
       "      <th>half_ppr_8_max_points</th>\n",
       "    </tr>\n",
       "    <tr>\n",
       "      <th>year</th>\n",
       "      <th></th>\n",
       "      <th></th>\n",
       "    </tr>\n",
       "  </thead>\n",
       "  <tbody>\n",
       "    <tr>\n",
       "      <th>2023</th>\n",
       "      <td>22570.0</td>\n",
       "      <td>15401.0</td>\n",
       "    </tr>\n",
       "  </tbody>\n",
       "</table>\n",
       "</div>"
      ],
      "text/plain": [
       "      ppr_12_max_points  half_ppr_8_max_points\n",
       "year                                          \n",
       "2023            22570.0                15401.0"
      ]
     },
     "metadata": {},
     "output_type": "display_data"
    }
   ],
   "source": [
    "week_api_response = swc.call_api_endpoint(base_url,swc.LIST_WEEKS_ENDPOINT)\n",
    "weeks_df = pd.DataFrame(week_api_response.json())\n",
    "weeks_df['year'] = weeks_df['week_number'].str.slice(0, 4).astype(int)\n",
    "weeks_df['week'] = weeks_df['week_number'].str.slice(4, 6).astype(int)\n",
    "\n",
    "\n",
    "\n",
    "max_totals_grouped_df = weeks_df.groupby('year').agg(\n",
    "    ppr_12_max_points=('ppr_12_max_points', 'sum'), \n",
    "    half_ppr_8_max_points=('half_ppr_8_max_points', 'sum'))\n",
    "\n",
    "display(max_totals_grouped_df)"
   ]
  },
  {
   "cell_type": "markdown",
   "id": "6e2e434e",
   "metadata": {},
   "source": [
    "## Get League Scoring Type\n",
    "### Use Endpoint: LIST_LEAGUES_ENDPOINT"
   ]
  },
  {
   "cell_type": "code",
   "execution_count": 10,
   "id": "4627bbf7",
   "metadata": {},
   "outputs": [
    {
     "data": {
      "text/html": [
       "<div>\n",
       "<style scoped>\n",
       "    .dataframe tbody tr th:only-of-type {\n",
       "        vertical-align: middle;\n",
       "    }\n",
       "\n",
       "    .dataframe tbody tr th {\n",
       "        vertical-align: top;\n",
       "    }\n",
       "\n",
       "    .dataframe thead th {\n",
       "        text-align: right;\n",
       "    }\n",
       "</style>\n",
       "<table border=\"1\" class=\"dataframe\">\n",
       "  <thead>\n",
       "    <tr style=\"text-align: right;\">\n",
       "      <th></th>\n",
       "      <th>league_id</th>\n",
       "      <th>league_name</th>\n",
       "      <th>scoring_type</th>\n",
       "      <th>league_size</th>\n",
       "    </tr>\n",
       "  </thead>\n",
       "  <tbody>\n",
       "    <tr>\n",
       "      <th>0</th>\n",
       "      <td>5001</td>\n",
       "      <td>Pigskin Prodigal Fantasy League</td>\n",
       "      <td>PPR</td>\n",
       "      <td>12</td>\n",
       "    </tr>\n",
       "    <tr>\n",
       "      <th>1</th>\n",
       "      <td>5002</td>\n",
       "      <td>Recurring Champions League</td>\n",
       "      <td>Half-PPR</td>\n",
       "      <td>8</td>\n",
       "    </tr>\n",
       "    <tr>\n",
       "      <th>2</th>\n",
       "      <td>5003</td>\n",
       "      <td>AHAHFZZFFFL</td>\n",
       "      <td>Half-PPR</td>\n",
       "      <td>8</td>\n",
       "    </tr>\n",
       "    <tr>\n",
       "      <th>3</th>\n",
       "      <td>5004</td>\n",
       "      <td>Gridiron Gurus Fantasy League</td>\n",
       "      <td>PPR</td>\n",
       "      <td>12</td>\n",
       "    </tr>\n",
       "    <tr>\n",
       "      <th>4</th>\n",
       "      <td>5005</td>\n",
       "      <td>Best League Ever</td>\n",
       "      <td>PPR</td>\n",
       "      <td>12</td>\n",
       "    </tr>\n",
       "  </tbody>\n",
       "</table>\n",
       "</div>"
      ],
      "text/plain": [
       "   league_id                      league_name scoring_type  league_size\n",
       "0       5001  Pigskin Prodigal Fantasy League          PPR           12\n",
       "1       5002       Recurring Champions League     Half-PPR            8\n",
       "2       5003                      AHAHFZZFFFL     Half-PPR            8\n",
       "3       5004    Gridiron Gurus Fantasy League          PPR           12\n",
       "4       5005                 Best League Ever          PPR           12"
      ]
     },
     "metadata": {},
     "output_type": "display_data"
    }
   ],
   "source": [
    "league_api_response = swc.call_api_endpoint(base_url,swc.LIST_LEAGUES_ENDPOINT)\n",
    "leagues_df = pd.DataFrame(league_api_response.json())\n",
    "leagues_df = leagues_df.drop(columns=['teams','last_changed_date'])\n",
    "display(leagues_df)"
   ]
  },
  {
   "cell_type": "markdown",
   "id": "cde60273",
   "metadata": {},
   "source": [
    "## Get Regular Season Scoring Totals - By Team\n",
    "### Use Endpoint: LIST_TEAMS_ENDPOINT"
   ]
  },
  {
   "cell_type": "code",
   "execution_count": 12,
   "id": "ab5280c4",
   "metadata": {},
   "outputs": [
    {
     "data": {
      "text/html": [
       "<div>\n",
       "<style scoped>\n",
       "    .dataframe tbody tr th:only-of-type {\n",
       "        vertical-align: middle;\n",
       "    }\n",
       "\n",
       "    .dataframe tbody tr th {\n",
       "        vertical-align: top;\n",
       "    }\n",
       "\n",
       "    .dataframe thead th {\n",
       "        text-align: right;\n",
       "    }\n",
       "</style>\n",
       "<table border=\"1\" class=\"dataframe\">\n",
       "  <thead>\n",
       "    <tr style=\"text-align: right;\">\n",
       "      <th></th>\n",
       "      <th>league_id</th>\n",
       "      <th>team_id</th>\n",
       "      <th>year</th>\n",
       "      <th>fantasy_points</th>\n",
       "    </tr>\n",
       "  </thead>\n",
       "  <tbody>\n",
       "    <tr>\n",
       "      <th>0</th>\n",
       "      <td>5001</td>\n",
       "      <td>1001</td>\n",
       "      <td>2023</td>\n",
       "      <td>1238.0</td>\n",
       "    </tr>\n",
       "    <tr>\n",
       "      <th>1</th>\n",
       "      <td>5001</td>\n",
       "      <td>1002</td>\n",
       "      <td>2023</td>\n",
       "      <td>1216.0</td>\n",
       "    </tr>\n",
       "    <tr>\n",
       "      <th>2</th>\n",
       "      <td>5001</td>\n",
       "      <td>1003</td>\n",
       "      <td>2023</td>\n",
       "      <td>1193.0</td>\n",
       "    </tr>\n",
       "    <tr>\n",
       "      <th>3</th>\n",
       "      <td>5001</td>\n",
       "      <td>1004</td>\n",
       "      <td>2023</td>\n",
       "      <td>1071.0</td>\n",
       "    </tr>\n",
       "    <tr>\n",
       "      <th>4</th>\n",
       "      <td>5001</td>\n",
       "      <td>1005</td>\n",
       "      <td>2023</td>\n",
       "      <td>958.0</td>\n",
       "    </tr>\n",
       "  </tbody>\n",
       "</table>\n",
       "</div>"
      ],
      "text/plain": [
       "  league_id team_id  year  fantasy_points\n",
       "0      5001    1001  2023          1238.0\n",
       "1      5001    1002  2023          1216.0\n",
       "2      5001    1003  2023          1193.0\n",
       "3      5001    1004  2023          1071.0\n",
       "4      5001    1005  2023           958.0"
      ]
     },
     "execution_count": 12,
     "metadata": {},
     "output_type": "execute_result"
    }
   ],
   "source": [
    "team_api_response = swc.call_api_endpoint(base_url,swc.LIST_TEAMS_ENDPOINT)\n",
    "\n",
    "teams_parsed_df = pd.json_normalize(team_api_response.json(), 'weekly_scores', \n",
    "                                    ['league_id', 'team_id', 'team_name'])\n",
    "\n",
    "teams_parsed_df['year'] = (teams_parsed_df['week_number']\n",
    "                           .str.slice(0, 4).astype(int))\n",
    "teams_parsed_df['week'] = (teams_parsed_df['week_number']\n",
    "                           .str.slice(4, 6).astype(int))\n",
    "\n",
    "#get only regular season teams\n",
    "teams_regular_season_df = teams_parsed_df.query('week <= 14')\n",
    "\n",
    "#get team season totals\n",
    "team_totals_df = teams_regular_season_df.groupby(\n",
    "    ['league_id', 'team_id', 'year'], as_index = False\n",
    "    )['fantasy_points'].sum()\n",
    "\n",
    "team_totals_df.head()"
   ]
  },
  {
   "cell_type": "code",
   "execution_count": null,
   "id": "9157749d",
   "metadata": {},
   "outputs": [],
   "source": [
    "“echo -e \"AIRFLOW_UID=$(id -u)\" > .env\n",
    "\n",
    "”\n",
    "\n",
    "Excerpt From\n",
    "Hands-On APIs for AI and Data Science\n",
    "Ryan Day\n",
    "This material may be protected by copyright."
   ]
  }
 ],
 "metadata": {
  "kernelspec": {
   "display_name": "Python 3",
   "language": "python",
   "name": "python3"
  },
  "language_info": {
   "codemirror_mode": {
    "name": "ipython",
    "version": 3
   },
   "file_extension": ".py",
   "mimetype": "text/x-python",
   "name": "python",
   "nbconvert_exporter": "python",
   "pygments_lexer": "ipython3",
   "version": "3.12.1"
  }
 },
 "nbformat": 4,
 "nbformat_minor": 5
}
